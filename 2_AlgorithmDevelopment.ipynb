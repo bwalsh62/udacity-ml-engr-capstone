{
 "cells": [
  {
   "cell_type": "markdown",
   "metadata": {},
   "source": [
    "# Music Recommendation Project\n",
    "\n",
    "Short description here... this will be Algorithm Development: Import features, baseline algorithm, complex algorithm, hyper-parameter optimization\n",
    "\n",
    "Author: Ben Walsh \\\n",
    "February 7, 2021"
   ]
  },
  {
   "cell_type": "markdown",
   "metadata": {},
   "source": [
    "## Contents\n",
    "\n",
    "1. [Feature Import](#feature-data-import)\n",
    "2. Data Exploration\n",
    "3. Data Cleaning\n",
    "4. Feature Engineering\n",
    "5. Feature Selection\n",
    "6. [Saving Data](#6.-Save-Data)"
   ]
  },
  {
   "cell_type": "markdown",
   "metadata": {},
   "source": [
    "## <a class=\"anchor\" id=\"feature-data-import\"></a>1. Feature Data Import"
   ]
  },
  {
   "cell_type": "markdown",
   "metadata": {},
   "source": [
    "### Import libraries"
   ]
  },
  {
   "cell_type": "code",
   "execution_count": 4,
   "metadata": {},
   "outputs": [],
   "source": [
    "import pandas as pd\n",
    "import os\n",
    "import xgboost as xgb"
   ]
  },
  {
   "cell_type": "markdown",
   "metadata": {},
   "source": [
    "First import all cleaned feature data: X and y target data for training and testing."
   ]
  },
  {
   "cell_type": "code",
   "execution_count": 5,
   "metadata": {},
   "outputs": [],
   "source": [
    "X_train_file = './data-input-clean/X_train.csv'\n",
    "X_test_file = './data-input-clean/X_test.csv'\n",
    "y_train_file = './data-input-clean/y_train.csv'\n",
    "y_test_file = './data-input-clean/y_test.csv'"
   ]
  },
  {
   "cell_type": "markdown",
   "metadata": {},
   "source": [
    "### Import training/test data"
   ]
  },
  {
   "cell_type": "code",
   "execution_count": 6,
   "metadata": {},
   "outputs": [],
   "source": [
    "if os.path.exists(X_train_file):\n",
    "    X_train = pd.read_csv(X_train_file)\n",
    "else:\n",
    "    print('Training data file {} not found!'.format(X_train_file))\n",
    "\n",
    "if os.path.exists(X_test_file):\n",
    "    X_test = pd.read_csv(X_test_file)\n",
    "else:\n",
    "    print('Test data file {} not found!'.format(X_test_file))\n",
    "\n",
    "if os.path.exists(y_train_file):\n",
    "    y_train = pd.read_csv(y_train_file)\n",
    "else:\n",
    "    print('Training data file {} not found!'.format(y_train_file))\n",
    "\n",
    "if os.path.exists(y_test_file):\n",
    "    y_test = pd.read_csv(y_test_file)\n",
    "else:\n",
    "    print('Test data file {} not found!'.format(y_test_file))"
   ]
  },
  {
   "cell_type": "markdown",
   "metadata": {},
   "source": [
    "## 2. Baseline Model"
   ]
  },
  {
   "cell_type": "markdown",
   "metadata": {},
   "source": [
    "## 3. XGBoost Model"
   ]
  },
  {
   "cell_type": "code",
   "execution_count": 7,
   "metadata": {},
   "outputs": [],
   "source": [
    "xgb_model = xgb.XGBRegressor(objective ='reg:linear', #reg:squarederror #?\n",
    "                             colsample_bytree = 0.3, \n",
    "                             learning_rate = 0.1,\n",
    "                             max_depth = 5, \n",
    "                             alpha = 10, \n",
    "                             n_estimators = 10)"
   ]
  },
  {
   "cell_type": "code",
   "execution_count": 8,
   "metadata": {},
   "outputs": [
    {
     "name": "stdout",
     "output_type": "stream",
     "text": [
      "[17:31:13] WARNING: C:/Jenkins/workspace/xgboost-win64_release_0.90/src/objective/regression_obj.cu:152: reg:linear is now deprecated in favor of reg:squarederror.\n",
      "[17:31:13] WARNING: C:\\Jenkins\\workspace\\xgboost-win64_release_0.90\\src\\learner.cc:686: Tree method is automatically selected to be 'approx' for faster speed. To use old behavior (exact greedy algorithm on single machine), set tree_method to 'exact'.\n"
     ]
    },
    {
     "data": {
      "text/plain": [
       "XGBRegressor(alpha=10, colsample_bytree=0.3, max_depth=5, n_estimators=10)"
      ]
     },
     "execution_count": 8,
     "metadata": {},
     "output_type": "execute_result"
    }
   ],
   "source": [
    "xgb_model.fit(X_train, y_train)"
   ]
  },
  {
   "cell_type": "markdown",
   "metadata": {},
   "source": [
    "## 4. Evaluate Model"
   ]
  },
  {
   "cell_type": "markdown",
   "metadata": {},
   "source": [
    "Compare training and testing accuracy"
   ]
  },
  {
   "cell_type": "code",
   "execution_count": 9,
   "metadata": {},
   "outputs": [],
   "source": [
    "y_predict_train = xgb_model.predict(X_train)\n",
    "y_predict_test = xgb_model.predict(X_test)"
   ]
  },
  {
   "cell_type": "code",
   "execution_count": 10,
   "metadata": {},
   "outputs": [],
   "source": [
    "# Round outputs to compare\n",
    "y_predict_train = y_predict_train.round().reshape(len(y_predict_train),1)\n",
    "y_predict_test = y_predict_test.round().reshape(len(y_predict_test),1)"
   ]
  },
  {
   "cell_type": "code",
   "execution_count": 11,
   "metadata": {},
   "outputs": [
    {
     "name": "stdout",
     "output_type": "stream",
     "text": [
      "Accuracy on training set = 61.67%\n"
     ]
    }
   ],
   "source": [
    "print('Accuracy on training set = {:.2f}%'.format(100*(y_predict_train == y_train.values).sum() / len(y_train)))"
   ]
  },
  {
   "cell_type": "code",
   "execution_count": 12,
   "metadata": {},
   "outputs": [
    {
     "name": "stdout",
     "output_type": "stream",
     "text": [
      "Accuracy on testing set = 61.69%\n"
     ]
    }
   ],
   "source": [
    "print('Accuracy on testing set = {:.2f}%'.format(100*(y_predict_test == y_test.values).sum() / len(y_test)))"
   ]
  },
  {
   "cell_type": "markdown",
   "metadata": {},
   "source": [
    "### Observations\n",
    "\n",
    "Initial parameters of XGBoost model without any song features in training data and without any new features has accuracy of 61.69%. The accuracy is nearly identical to the training accuracy, indicating the algorithm is not overfitting."
   ]
  },
  {
   "cell_type": "code",
   "execution_count": null,
   "metadata": {},
   "outputs": [],
   "source": []
  }
 ],
 "metadata": {
  "kernelspec": {
   "display_name": "Python 3",
   "language": "python",
   "name": "python3"
  },
  "language_info": {
   "codemirror_mode": {
    "name": "ipython",
    "version": 3
   },
   "file_extension": ".py",
   "mimetype": "text/x-python",
   "name": "python",
   "nbconvert_exporter": "python",
   "pygments_lexer": "ipython3",
   "version": "3.6.12"
  }
 },
 "nbformat": 4,
 "nbformat_minor": 4
}
