{
 "cells": [
  {
   "cell_type": "markdown",
   "metadata": {},
   "source": [
    "# Music Recommendation Project\n",
    "\n",
    "Short description here... this will be Algorithm Development: Import features, baseline algorithm, complex algorithm, hyper-parameter optimization\n",
    "\n",
    "Author: Ben Walsh \\\n",
    "February 7, 2021"
   ]
  },
  {
   "cell_type": "markdown",
   "metadata": {},
   "source": [
    "## Contents\n",
    "\n",
    "1. [Feature Import](#feature-data-import)\n",
    "2. Data Exploration\n",
    "3. Data Cleaning\n",
    "4. [Evaluate Model](#evaluate-model)\n",
    "5. [Saving Model & Results](#save-results)"
   ]
  },
  {
   "cell_type": "markdown",
   "metadata": {},
   "source": [
    "## <a class=\"anchor\" id=\"feature-data-import\"></a>1. Feature Data Import"
   ]
  },
  {
   "cell_type": "markdown",
   "metadata": {},
   "source": [
    "### Import libraries"
   ]
  },
  {
   "cell_type": "code",
   "execution_count": 48,
   "metadata": {},
   "outputs": [],
   "source": [
    "import pandas as pd\n",
    "import numpy as np\n",
    "import xgboost as xgb\n",
    "import pickle\n",
    "\n",
    "import os\n",
    "import json\n",
    "import datetime"
   ]
  },
  {
   "cell_type": "markdown",
   "metadata": {},
   "source": [
    "First import all cleaned feature data: X and y target data for training and testing."
   ]
  },
  {
   "cell_type": "code",
   "execution_count": 5,
   "metadata": {},
   "outputs": [],
   "source": [
    "X_train_file = './data-input-clean/X_train.csv'\n",
    "X_test_file = './data-input-clean/X_test.csv'\n",
    "y_train_file = './data-input-clean/y_train.csv'\n",
    "y_test_file = './data-input-clean/y_test.csv'"
   ]
  },
  {
   "cell_type": "markdown",
   "metadata": {},
   "source": [
    "### Import training/test data"
   ]
  },
  {
   "cell_type": "code",
   "execution_count": 6,
   "metadata": {},
   "outputs": [],
   "source": [
    "if os.path.exists(X_train_file):\n",
    "    X_train = pd.read_csv(X_train_file)\n",
    "else:\n",
    "    print('Training data file {} not found!'.format(X_train_file))\n",
    "\n",
    "if os.path.exists(X_test_file):\n",
    "    X_test = pd.read_csv(X_test_file)\n",
    "else:\n",
    "    print('Test data file {} not found!'.format(X_test_file))\n",
    "\n",
    "if os.path.exists(y_train_file):\n",
    "    y_train = pd.read_csv(y_train_file)\n",
    "else:\n",
    "    print('Training data file {} not found!'.format(y_train_file))\n",
    "\n",
    "if os.path.exists(y_test_file):\n",
    "    y_test = pd.read_csv(y_test_file)\n",
    "else:\n",
    "    print('Test data file {} not found!'.format(y_test_file))"
   ]
  },
  {
   "cell_type": "markdown",
   "metadata": {},
   "source": [
    "## 2. Baseline Model"
   ]
  },
  {
   "cell_type": "markdown",
   "metadata": {},
   "source": [
    "## 3. XGBoost Model"
   ]
  },
  {
   "cell_type": "code",
   "execution_count": 41,
   "metadata": {},
   "outputs": [],
   "source": [
    "xgb_hyper_params = {'objective': 'reg:linear',\n",
    "                   'colsample_bytree': 0.3,\n",
    "                   'learning_rate': 0.1,\n",
    "                   'max_depth': 5,\n",
    "                   'alpha': 10,\n",
    "                   'n_estimators': 10}"
   ]
  },
  {
   "cell_type": "code",
   "execution_count": 43,
   "metadata": {},
   "outputs": [],
   "source": [
    "xgb_model = xgb.XGBRegressor(objective = xgb_hyper_params['objective'], #reg:squarederror #?\n",
    "                             colsample_bytree = xgb_hyper_params['colsample_bytree'], \n",
    "                             learning_rate = xgb_hyper_params['learning_rate'],\n",
    "                             max_depth = xgb_hyper_params['max_depth'], \n",
    "                             alpha = xgb_hyper_params['alpha'], \n",
    "                             n_estimators = xgb_hyper_params['n_estimators'])"
   ]
  },
  {
   "cell_type": "code",
   "execution_count": 8,
   "metadata": {},
   "outputs": [
    {
     "name": "stdout",
     "output_type": "stream",
     "text": [
      "[17:31:13] WARNING: C:/Jenkins/workspace/xgboost-win64_release_0.90/src/objective/regression_obj.cu:152: reg:linear is now deprecated in favor of reg:squarederror.\n",
      "[17:31:13] WARNING: C:\\Jenkins\\workspace\\xgboost-win64_release_0.90\\src\\learner.cc:686: Tree method is automatically selected to be 'approx' for faster speed. To use old behavior (exact greedy algorithm on single machine), set tree_method to 'exact'.\n"
     ]
    },
    {
     "data": {
      "text/plain": [
       "XGBRegressor(alpha=10, colsample_bytree=0.3, max_depth=5, n_estimators=10)"
      ]
     },
     "execution_count": 8,
     "metadata": {},
     "output_type": "execute_result"
    }
   ],
   "source": [
    "xgb_model.fit(X_train, y_train)"
   ]
  },
  {
   "cell_type": "markdown",
   "metadata": {},
   "source": [
    "## 4. Evaluate Model"
   ]
  },
  {
   "cell_type": "markdown",
   "metadata": {},
   "source": [
    "Compare training and testing accuracy"
   ]
  },
  {
   "cell_type": "code",
   "execution_count": 9,
   "metadata": {},
   "outputs": [],
   "source": [
    "y_predict_train = xgb_model.predict(X_train)\n",
    "y_predict_test = xgb_model.predict(X_test)"
   ]
  },
  {
   "cell_type": "code",
   "execution_count": 10,
   "metadata": {},
   "outputs": [],
   "source": [
    "# Round outputs to compare\n",
    "y_predict_train = y_predict_train.round().reshape(len(y_predict_train),1)\n",
    "y_predict_test = y_predict_test.round().reshape(len(y_predict_test),1)"
   ]
  },
  {
   "cell_type": "code",
   "execution_count": 37,
   "metadata": {},
   "outputs": [
    {
     "name": "stdout",
     "output_type": "stream",
     "text": [
      "Accuracy on training set = 61.67%\n"
     ]
    }
   ],
   "source": [
    "train_acc = (y_predict_train == y_train.values).sum() / len(y_train)\n",
    "print('Accuracy on training set = {:.2f}%'.format(100*train_acc))"
   ]
  },
  {
   "cell_type": "code",
   "execution_count": 39,
   "metadata": {},
   "outputs": [
    {
     "name": "stdout",
     "output_type": "stream",
     "text": [
      "Accuracy on testing set = 61.69%\n"
     ]
    }
   ],
   "source": [
    "test_acc = (y_predict_test == y_test.values).sum() / len(y_test)\n",
    "print('Accuracy on testing set = {:.2f}%'.format(100*test_acc))"
   ]
  },
  {
   "cell_type": "markdown",
   "metadata": {},
   "source": [
    "### Observations\n",
    "\n",
    "Initial parameters of XGBoost model without any song features in training data and without any new features has accuracy of 61.69%. The accuracy is nearly identical to the training accuracy, indicating the algorithm is not overfitting."
   ]
  },
  {
   "cell_type": "markdown",
   "metadata": {},
   "source": [
    "## 6. Save Model and Results"
   ]
  },
  {
   "cell_type": "markdown",
   "metadata": {},
   "source": [
    "Get timestamp for history and to ensure a unique model name and "
   ]
  },
  {
   "cell_type": "code",
   "execution_count": 29,
   "metadata": {},
   "outputs": [],
   "source": [
    "timestamp = datetime.datetime.now()\n",
    "timestamp_str = '{}-{:02}-{:02}-{}-{}-{}-{}'.format(timestamp.year, timestamp.month, timestamp.day, timestamp.hour, timestamp.minute, timestamp.second, timestamp.microsecond)\n"
   ]
  },
  {
   "cell_type": "markdown",
   "metadata": {},
   "source": [
    "Save model with pickle"
   ]
  },
  {
   "cell_type": "code",
   "execution_count": 33,
   "metadata": {},
   "outputs": [],
   "source": [
    "model_folder = './saved_models'\n",
    "if not(os.path.exists(model_folder)):\n",
    "       os.mkdir(model_folder)"
   ]
  },
  {
   "cell_type": "code",
   "execution_count": 34,
   "metadata": {},
   "outputs": [],
   "source": [
    "pickle.dump(xgb_model, open('{}/model-{}'.format(model_folder, timestamp_str), \"wb\"))"
   ]
  },
  {
   "cell_type": "markdown",
   "metadata": {},
   "source": [
    "Read model registry and retrieve latest model index"
   ]
  },
  {
   "cell_type": "code",
   "execution_count": 142,
   "metadata": {},
   "outputs": [
    {
     "name": "stdout",
     "output_type": "stream",
     "text": [
      "{'0': {'time': '2021-02-06-17-30-53-334642', 'data-features': ['discover', 'explore', 'listen with', 'my library', 'notification', 'radio', 'search', 'settings', 'city', 'bd', 'registered_via', 'registration_init_time', 'expiration_date'], 'model-params': {'objective': 'reg:linear', 'colsample_bytree': 0.3, 'learning_rate': 0.1, 'max_depth': 5, 'alpha': 10, 'n_estimators': 10}, 'train-acc': 0.6166558284115004, 'test-acc': 0.6168999460516007}, '1': {'time': '2021-02-06-17-30-53-334642', 'data-features': ['discover', 'explore', 'listen with', 'my library', 'notification', 'radio', 'search', 'settings', 'city', 'bd', 'registered_via', 'registration_init_time', 'expiration_date'], 'model-params': {'objective': 'reg:linear', 'colsample_bytree': 0.3, 'learning_rate': 0.1, 'max_depth': 5, 'alpha': 10, 'n_estimators': 10}, 'train-acc': 0.6166558284115004, 'test-acc': 0.6168999460516007}}\n"
     ]
    }
   ],
   "source": [
    "with open('{}/model-history.json'.format(model_folder), 'r') as openfile: \n",
    "  \n",
    "    # Reading from json file \n",
    "    model_registry = json.load(openfile) \n",
    "    \n",
    "print(model_registry) "
   ]
  },
  {
   "cell_type": "code",
   "execution_count": 138,
   "metadata": {},
   "outputs": [],
   "source": [
    "new_model_index = np.array(list(model_registry.keys())).astype(int).max() + 1;\n",
    "new_model_registry_info = { \\\n",
    "    str(new_model_index) : \\\n",
    "   {\\\n",
    "    'time': timestamp_str,\n",
    "     'data-features': list(X_train.columns.values),\n",
    "    'model-params': xgb_hyper_params,\n",
    "    'train-acc': train_acc, \n",
    "    'test-acc': test_acc \\\n",
    "    }\n",
    "  }"
   ]
  },
  {
   "cell_type": "markdown",
   "metadata": {},
   "source": [
    "Append latest model results and save back to model registry"
   ]
  },
  {
   "cell_type": "code",
   "execution_count": 139,
   "metadata": {},
   "outputs": [],
   "source": [
    "model_registry.update(new_model_registry_info)"
   ]
  },
  {
   "cell_type": "code",
   "execution_count": 141,
   "metadata": {},
   "outputs": [],
   "source": [
    "with open('{}/model-history.json'.format(model_folder), 'w') as json_file:\n",
    "    json.dump(model_registry, json_file)"
   ]
  },
  {
   "cell_type": "markdown",
   "metadata": {},
   "source": [
    "Print out highest score yet"
   ]
  },
  {
   "cell_type": "code",
   "execution_count": 149,
   "metadata": {},
   "outputs": [],
   "source": [
    "test_accs = [model_registry[key]['test-acc'] for key in model_registry.keys()]"
   ]
  },
  {
   "cell_type": "code",
   "execution_count": 155,
   "metadata": {},
   "outputs": [
    {
     "name": "stdout",
     "output_type": "stream",
     "text": [
      "Highest test accuracy = 0.617 from index = 0\n"
     ]
    }
   ],
   "source": [
    "print('Highest test accuracy = {:.3f} from index = {}'.format(np.max(test_accs), test_accs.index(np.max(test_accs))))"
   ]
  }
 ],
 "metadata": {
  "kernelspec": {
   "display_name": "Python 3",
   "language": "python",
   "name": "python3"
  },
  "language_info": {
   "codemirror_mode": {
    "name": "ipython",
    "version": 3
   },
   "file_extension": ".py",
   "mimetype": "text/x-python",
   "name": "python",
   "nbconvert_exporter": "python",
   "pygments_lexer": "ipython3",
   "version": "3.6.12"
  }
 },
 "nbformat": 4,
 "nbformat_minor": 4
}
